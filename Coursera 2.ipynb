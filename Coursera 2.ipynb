{
  "metadata": {
    "kernelspec": {
      "name": "python",
      "display_name": "Python (Pyodide)",
      "language": "python"
    },
    "language_info": {
      "codemirror_mode": {
        "name": "python",
        "version": 3
      },
      "file_extension": ".py",
      "mimetype": "text/x-python",
      "name": "python",
      "nbconvert_exporter": "python",
      "pygments_lexer": "ipython3",
      "version": "3.8"
    }
  },
  "nbformat_minor": 5,
  "nbformat": 4,
  "cells": [
    {
      "id": "867008b6-f688-4e26-9ddd-d489b81329a0",
      "cell_type": "markdown",
      "source": "Pregunta 1: Extracción de datos de acciones de Tesla utilizando yfinance\nPara esta tarea, usarás la biblioteca yfinance para extraer los datos de acciones de Tesla. El código básico sería algo como esto:\n\npython\nCopiar\nEditar",
      "metadata": {}
    },
    {
      "id": "c3f7c22d-1339-4881-b326-80882659b7ba",
      "cell_type": "code",
      "source": "import yfinance as yf\n\n# Obtener los datos históricos de Tesla (TSLA)\ntesla = yf.Ticker(\"TSLA\")\ntesla_data = tesla.history(period=\"1y\")  # Por ejemplo, los últimos 12 meses\ntesla_data.head()",
      "metadata": {
        "trusted": true
      },
      "outputs": [
        {
          "ename": "<class 'ModuleNotFoundError'>",
          "evalue": "No module named 'yfinance'",
          "traceback": [
            "\u001b[0;31m---------------------------------------------------------------------------\u001b[0m",
            "\u001b[0;31mModuleNotFoundError\u001b[0m                       Traceback (most recent call last)",
            "Cell \u001b[0;32mIn[2], line 1\u001b[0m\n\u001b[0;32m----> 1\u001b[0m \u001b[38;5;28;01mimport\u001b[39;00m \u001b[38;5;21;01myfinance\u001b[39;00m \u001b[38;5;28;01mas\u001b[39;00m \u001b[38;5;21;01myf\u001b[39;00m\n\u001b[1;32m      3\u001b[0m \u001b[38;5;66;03m# Obtener los datos históricos de Tesla (TSLA)\u001b[39;00m\n\u001b[1;32m      4\u001b[0m tesla \u001b[38;5;241m=\u001b[39m yf\u001b[38;5;241m.\u001b[39mTicker(\u001b[38;5;124m\"\u001b[39m\u001b[38;5;124mTSLA\u001b[39m\u001b[38;5;124m\"\u001b[39m)\n",
            "\u001b[0;31mModuleNotFoundError\u001b[0m: No module named 'yfinance'"
          ],
          "output_type": "error"
        }
      ],
      "execution_count": 2
    },
    {
      "id": "2f6e31ff-160a-4353-b8fb-263515f2dad6",
      "cell_type": "markdown",
      "source": "Pregunta 2: Extracción de datos de ingresos de Tesla utilizando Webscraping\nUsando web scraping con bibliotecas como BeautifulSoup y requests, puedes extraer los datos de ingresos de Tesla desde una página web como Yahoo Finanzas. Un ejemplo de código sería:",
      "metadata": {}
    },
    {
      "id": "69d20f96-e7ee-4d80-a807-f761f040406d",
      "cell_type": "code",
      "source": "import requests\nfrom bs4 import BeautifulSoup\n\nurl = 'https://www.macrotrends.net/stocks/charts/TSLA/tesla/revenue'\nresponse = requests.get(url)\nsoup = BeautifulSoup(response.text, 'html.parser')\n\n# Buscar la tabla de ingresos\nrevenue_data = soup.find('table', {'class': 'historical_data_table'})\nrows = revenue_data.find_all('tr')\n\n# Extraer los datos de la tabla\nrevenue = []\nfor row in rows[1:]:\n    cols = row.find_all('td')\n    year = cols[0].text.strip()\n    revenue.append((year, cols[1].text.strip()))\n\nprint(revenue)\n",
      "metadata": {
        "trusted": true
      },
      "outputs": [],
      "execution_count": null
    },
    {
      "id": "fb0fd5cd-00e7-4d61-80bc-997f7e61db1f",
      "cell_type": "markdown",
      "source": "Pregunta 3: Extracción de datos de acciones de GameStop utilizando yfinance\nUsando yfinance de manera similar a Tesla, puedes extraer los datos de GameStop:",
      "metadata": {}
    },
    {
      "id": "81a39aac-b0b0-43ab-802d-09a1123cdc86",
      "cell_type": "code",
      "source": "# Obtener los datos históricos de GameStop (GME)\ngamestop = yf.Ticker(\"GME\")\ngamestop_data = gamestop.history(period=\"1y\")  # Los últimos 12 meses\ngamestop_data.head()",
      "metadata": {
        "trusted": true
      },
      "outputs": [],
      "execution_count": null
    },
    {
      "id": "1ae4ef97-9dab-4f99-adf0-163e48f79d74",
      "cell_type": "markdown",
      "source": "Pregunta 4: Extracción de datos de ingresos de GameStop utilizando Webscraping\nAl igual que para Tesla, puedes usar BeautifulSoup para extraer los datos de ingresos de GameStop desde una fuente confiable como la de Yahoo Finanzas o Macrotrends.",
      "metadata": {}
    },
    {
      "id": "825deeaa-c33d-4c7b-8f0b-a0b620713906",
      "cell_type": "code",
      "source": "url = 'https://www.macrotrends.net/stocks/charts/GME/gamestop/revenue'\nresponse = requests.get(url)\nsoup = BeautifulSoup(response.text, 'html.parser')\n\n# Buscar la tabla de ingresos\nrevenue_data = soup.find('table', {'class': 'historical_data_table'})\nrows = revenue_data.find_all('tr')\n\n# Extraer los datos de la tabla\nrevenue = []\nfor row in rows[1:]:\n    cols = row.find_all('td')\n    year = cols[0].text.strip()\n    revenue.append((year, cols[1].text.strip()))\n\nprint(revenue)",
      "metadata": {
        "trusted": true
      },
      "outputs": [],
      "execution_count": null
    },
    {
      "id": "d1d85fae-873a-4a6f-b3e7-8e5717dcc60d",
      "cell_type": "markdown",
      "source": "Pregunta 5: Tablero de acciones e ingresos de Tesla\nUsando bibliotecas como matplotlib y seaborn, puedes crear un cuadro de mando que compare las acciones con los ingresos de Tesla.",
      "metadata": {}
    },
    {
      "id": "01869eb0-a90c-4274-8fc3-bfec12521202",
      "cell_type": "code",
      "source": "import matplotlib.pyplot as plt\n\n# Graficar los precios de las acciones y los ingresos de Tesla\nfig, ax1 = plt.subplots()\n\nax1.set_xlabel('Fecha')\nax1.set_ylabel('Precio de acción', color='tab:blue')\nax1.plot(tesla_data.index, tesla_data['Close'], color='tab:blue')\nax1.tick_params(axis='y', labelcolor='tab:blue')\n\nax2 = ax1.twinx()  \nax2.set_ylabel('Ingresos', color='tab:green')\nax2.plot([x[0] for x in revenue], [x[1] for x in revenue], color='tab:green')\nax2.tick_params(axis='y', labelcolor='tab:green')\n\nplt.title('Acciones e Ingresos de Tesla')\nplt.show()\n",
      "metadata": {
        "trusted": true
      },
      "outputs": [],
      "execution_count": null
    },
    {
      "id": "b5903bf8-8276-42e5-8e51-49b88d8ca007",
      "cell_type": "markdown",
      "source": "Pregunta 5: Tablero de acciones e ingresos de Tesla\nUsando bibliotecas como matplotlib y seaborn, puedes crear un cuadro de mando que compare las acciones con los ingresos de Tesla.\n",
      "metadata": {}
    },
    {
      "id": "5ca989a9-fe2d-4a7b-bed8-06a5a144ac95",
      "cell_type": "code",
      "source": "import matplotlib.pyplot as plt\n\n# Graficar los precios de las acciones y los ingresos de Tesla\nfig, ax1 = plt.subplots()\n\nax1.set_xlabel('Fecha')\nax1.set_ylabel('Precio de acción', color='tab:blue')\nax1.plot(tesla_data.index, tesla_data['Close'], color='tab:blue')\nax1.tick_params(axis='y', labelcolor='tab:blue')\n\nax2 = ax1.twinx()  \nax2.set_ylabel('Ingresos', color='tab:green')\nax2.plot([x[0] for x in revenue], [x[1] for x in revenue], color='tab:green')\nax2.tick_params(axis='y', labelcolor='tab:green')\n\nplt.title('Acciones e Ingresos de Tesla')\nplt.show()\n",
      "metadata": {
        "trusted": true
      },
      "outputs": [],
      "execution_count": null
    }
  ]
}