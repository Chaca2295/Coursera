{
  "metadata": {
    "kernelspec": {
      "name": "python",
      "display_name": "Python (Pyodide)",
      "language": "python"
    },
    "language_info": {
      "codemirror_mode": {
        "name": "python",
        "version": 3
      },
      "file_extension": ".py",
      "mimetype": "text/x-python",
      "name": "python",
      "nbconvert_exporter": "python",
      "pygments_lexer": "ipython3",
      "version": "3.8"
    }
  },
  "nbformat_minor": 5,
  "nbformat": 4,
  "cells": [
    {
      "id": "e225e662-2c7b-4058-b858-3e5147f90f1b",
      "cell_type": "markdown",
      "source": "# Data Science Tools and Ecosystem",
      "metadata": {}
    },
    {
      "id": "2dfd2b96-64da-4dda-b0b7-9601718bb979",
      "cell_type": "markdown",
      "source": "In this notebook, we will summarize some of the key tools, libraries, and languages used in Data Science. Additionally, we will perform some simple arithmetic operations using Python.\n",
      "metadata": {}
    },
    {
      "id": "c0b01d95-faac-42cb-bee2-f12e23039144",
      "cell_type": "markdown",
      "source": "## Popular Data Science Languages\nSome of the popular languages that Data Scientists use are:\n- Python\n- R\n- SQL\n- Julia\n- Scala\n",
      "metadata": {}
    },
    {
      "id": "226ca8a7-69e8-40db-932d-63a521f4da04",
      "cell_type": "markdown",
      "source": "## Common Data Science Libraries\nSome of the commonly used libraries for Data Science include:\n- Pandas\n- NumPy\n- Matplotlib\n- Scikit-learn\n- TensorFlow\n",
      "metadata": {}
    },
    {
      "id": "3bb5156b-30d6-4271-a3a3-03e7a92573f7",
      "cell_type": "markdown",
      "source": "## Data Science Tools\n| Tool        | Description                        |\n|------------|----------------------------------|\n| Jupyter Notebook | Interactive coding environment |\n| RStudio    | IDE for R programming            |\n| TensorFlow | Machine learning framework       |\n| Apache Spark | Big data processing tool       |\n| VS Code    | Code editor for multiple languages |\n",
      "metadata": {}
    },
    {
      "id": "77a3160f-c2c4-48fd-8376-d4d900fe06b7",
      "cell_type": "markdown",
      "source": "## Examples of Arithmetic Expressions\nHere are some examples of simple arithmetic operations in Python:\n- Addition: \\(5 + 3 = 8\\)\n- Multiplication: \\(4 \\times 6 = 24\\)\n- Division: \\(10 / 2 = 5\\)\n",
      "metadata": {}
    },
    {
      "id": "e4736658-7051-4af4-8dd4-44ef7f8c83d2",
      "cell_type": "code",
      "source": "# This code multiplies and adds numbers\nresult = (5 * 3) + 2\nresult\n",
      "metadata": {
        "trusted": true
      },
      "outputs": [
        {
          "execution_count": 11,
          "output_type": "execute_result",
          "data": {
            "text/plain": "17"
          },
          "metadata": {}
        }
      ],
      "execution_count": 11
    },
    {
      "id": "a2ad93ae-00aa-49df-8089-dd1c122d9024",
      "cell_type": "code",
      "source": "# This code converts minutes to hours\nminutes = 200\nhours = minutes / 60\nhours\n",
      "metadata": {
        "trusted": true
      },
      "outputs": [
        {
          "execution_count": 12,
          "output_type": "execute_result",
          "data": {
            "text/plain": "3.3333333333333335"
          },
          "metadata": {}
        }
      ],
      "execution_count": 12
    },
    {
      "id": "3d90eb3d-9b08-4a0e-b484-755c3bb8a66f",
      "cell_type": "code",
      "source": "# List of objectives in Data Science\nobjectives = [\"Understand key tools\", \"Learn programming languages\", \"Work with data libraries\"]\nfor obj in objectives:\n    print(f\"- {obj}\")\n",
      "metadata": {
        "trusted": true
      },
      "outputs": [
        {
          "name": "stdout",
          "output_type": "stream",
          "text": "- Understand key tools\n- Learn programming languages\n- Work with data libraries\n"
        }
      ],
      "execution_count": 13
    },
    {
      "id": "30f77dac-7f18-4175-8c08-f01ee913a6ef",
      "cell_type": "markdown",
      "source": "## Author\nGiancarlo Cabañas\n",
      "metadata": {}
    }
  ]
}